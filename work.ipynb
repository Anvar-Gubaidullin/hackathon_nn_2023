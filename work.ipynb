{
 "cells": [
  {
   "cell_type": "code",
   "execution_count": 1,
   "metadata": {},
   "outputs": [],
   "source": [
    "import numpy as np\n",
    "import re\n",
    "import pandas as pd\n",
    "import pyarrow.parquet as pq\n",
    "from collections import defaultdict\n",
    "from math import log\n",
    "\n",
    "import gensim"
   ]
  },
  {
   "cell_type": "code",
   "execution_count": 2,
   "metadata": {},
   "outputs": [],
   "source": [
    "file_path_video = 'videos.parquet'\n",
    "df_v = pd.read_parquet(file_path_video)"
   ]
  },
  {
   "cell_type": "code",
   "execution_count": 3,
   "metadata": {},
   "outputs": [],
   "source": [
    "file_path_player = 'player_starts_train.parquet'\n",
    "hack = pd.read_parquet(file_path_player)"
   ]
  },
  {
   "cell_type": "code",
   "execution_count": 4,
   "metadata": {},
   "outputs": [],
   "source": [
    "data = pd.merge(hack, df_v, on=\"item_id\", how=\"inner\")\n",
    "data = data.dropna()"
   ]
  },
  {
   "cell_type": "code",
   "execution_count": null,
   "metadata": {},
   "outputs": [],
   "source": [
    "# emotions = pd.read_csv(\"emotions.csv\")\n",
    "# emotions.rename(columns = {\"date\": \"emotion_date\"}, inplace=True)\n",
    "# emotions.rename(columns = {\"user_id\": \"emotion_user_id\"}, inplace=True)\n",
    "# data = pd.merge(data, emotions, on=\"item_id\", how=\"left\")"
   ]
  },
  {
   "cell_type": "code",
   "execution_count": 5,
   "metadata": {},
   "outputs": [
    {
     "name": "stderr",
     "output_type": "stream",
     "text": [
      "/var/folders/zz/zyxvpxvq6csfxvn_n003wgq800z3xt/T/ipykernel_73349/1942235562.py:15: UserWarning: Boolean Series key will be reindexed to match DataFrame index.\n",
      "  data = filtered_data[~(condition1 | condition2)]\n"
     ]
    }
   ],
   "source": [
    "# Фильтруем строки, где watch_time не равен 0 и не равен 1\n",
    "filtered_data = data[(data['watch_time'] != 0) & (data['watch_time'] != 1)]\n",
    "\n",
    "# Условие 1: Если duration / 1000 >= 3000 и watch_time <= 0.25 * duration\n",
    "condition1 = (data['duration'] / 1000 >= 3000) & (data['watch_time'] <= 0.25 * data['duration'])\n",
    "\n",
    "# Условие 2: Если (duration / 1000 < 3000 и watch_time <= 30 и duration / 10000 != watch_time)\n",
    "condition2 = ((data['duration'] / 1000 < 3000) & (data['watch_time'] <= 30 & (data['duration']/1000 != data['watch_time'])))\n",
    "\n",
    "# Условие 3: Если тип эмоции негативный\n",
    "# condition3 = (data['type'] == 'neg_emotions')\n",
    "\n",
    "# Фильтруем строки, которые не соответствуют ни одному из условий\n",
    "# data = data[~(condition1 | condition2 | condition3)]\n",
    "data = filtered_data[~(condition1 | condition2)]"
   ]
  },
  {
   "cell_type": "code",
   "execution_count": 6,
   "metadata": {},
   "outputs": [],
   "source": [
    "user_id_to_process = 'user_19364826'  # Замените 'your_user_id_here' на конкретный user_id\n",
    "user_data = data[data['user_id'] == user_id_to_process]\n",
    "\n",
    "user_data = user_data.sort_values(by='date', ascending=False)\n",
    "\n",
    "top_10_items = user_data.head(10)['item_id'].unique()"
   ]
  },
  {
   "cell_type": "code",
   "execution_count": 13,
   "metadata": {},
   "outputs": [],
   "source": [
    "df_v['text_category'] = df_v['video_description'].fillna('') + ' ' + df_v['video_title']\n",
    "text = df_v.groupby('category_title')['text_category'].apply(lambda x: x.tolist()).reset_index()"
   ]
  },
  {
   "cell_type": "code",
   "execution_count": 14,
   "metadata": {},
   "outputs": [],
   "source": [
    "with open('stop.txt', 'r') as file:\n",
    "    stop_word = file.read().split()"
   ]
  },
  {
   "cell_type": "code",
   "execution_count": 15,
   "metadata": {},
   "outputs": [],
   "source": [
    "def clear_text(text_list):\n",
    "    list_filtered_words = []\n",
    "    for text in text_list:\n",
    "        words = re.split(r'\\s+|\\n+', text)\n",
    "        filtered_words = []\n",
    "        for word in words:\n",
    "            if len(word) >= 2 and word not in stop_word:\n",
    "                word = str(word).lower()\n",
    "                first_char = word[0]\n",
    "                last_char = word[-1]\n",
    "                if not last_char.isalnum():\n",
    "                    word = word[:-1]\n",
    "                if not first_char.isalnum():\n",
    "                    word = word[1:]\n",
    "                filtered_words.append(word)\n",
    "        ' '.join(filtered_words)\n",
    "        list_filtered_words.append(filtered_words)\n",
    "    return list_filtered_words"
   ]
  },
  {
   "cell_type": "code",
   "execution_count": null,
   "metadata": {},
   "outputs": [],
   "source": [
    "text['text_category'] = text['text_category'].apply(clear_text)"
   ]
  },
  {
   "cell_type": "code",
   "execution_count": null,
   "metadata": {},
   "outputs": [],
   "source": [
    "df = pd.DataFrame(columns=['category_title', 'tag', 'koef'])\n",
    "for index, theme in enumerate(text['text_category']):\n",
    "    tf = defaultdict(int) \n",
    "    idf = defaultdict(int) \n",
    "    koef = {}\n",
    "    count_file = len(theme)\n",
    "    count_word = 0\n",
    "    for document in theme:\n",
    "        count_word += len(document)\n",
    "        for word in set(document):\n",
    "            tf[word] += document.count(word)\n",
    "            idf[word] += 1\n",
    "    for word in tf:\n",
    "        koef[word] = (tf[word] / count_word) * (count_file / (idf[word] + 1))\n",
    "    sorted_koef = dict(sorted(koef.items(), key=lambda item: item[1], reverse=True))\n",
    "    is_end = 0\n",
    "    for key, value in sorted_koef.items():\n",
    "        if is_end < 100 and re.search(r'[a-zа-я0-9]', key) is not None:\n",
    "            df = pd.concat([df, pd.DataFrame({'category_title': [text['category_title'][index]], 'tag': [key], 'koef': [value]})])\n",
    "            is_end += 1"
   ]
  },
  {
   "cell_type": "code",
   "execution_count": 17,
   "metadata": {},
   "outputs": [],
   "source": [
    "path_tags = \"tags.csv\"\n",
    "# df.to_csv(path_tags)\n",
    "df = pd.read_csv(path_tags)"
   ]
  },
  {
   "cell_type": "code",
   "execution_count": null,
   "metadata": {},
   "outputs": [],
   "source": [
    "list_tags_each_video = []\n",
    "for index_1, text in enumerate(df_v['text_category']):\n",
    "    for word in text:\n",
    "        list_tag = []\n",
    "        for index_2, title in enumerate(df['category_title']):\n",
    "            if df_v['category_title'][index_1] == df['category_title'][index_2]:\n",
    "                for tag in df['tag']:\n",
    "                    if word == tag: \n",
    "                        list_tag.append(tag)\n",
    "    list_tags_each_video.append(list_tag)"
   ]
  },
  {
   "cell_type": "code",
   "execution_count": 39,
   "metadata": {},
   "outputs": [],
   "source": [
    "def text_vec(text):\n",
    "    res = np.zeros(50)\n",
    "    cnt = 0\n",
    "    for word in text:\n",
    "        try:\n",
    "            res += model.wv[word]\n",
    "            cnt += 1\n",
    "        except:\n",
    "            pass\n",
    "    if cnt > 0:\n",
    "        return res / (cnt * np.linalg.norm(res / cnt))\n",
    "    else:\n",
    "        return res"
   ]
  },
  {
   "cell_type": "code",
   "execution_count": 20,
   "metadata": {},
   "outputs": [],
   "source": [
    "tags = []\n",
    "tags_from_csv = df.groupby('category_title')['tag'].apply(lambda x: x.tolist()).reset_index()\n",
    "for item in tags_from_csv['tag']:\n",
    "    tags.append(item)"
   ]
  },
  {
   "cell_type": "code",
   "execution_count": null,
   "metadata": {},
   "outputs": [],
   "source": [
    "model = gensim.models.FastText(list_tags_each_video, min_count=1, negative=5, size=50, window=5, workers=4)\n",
    "model.wv.vectors_vocab = None\n",
    "model.wv.vectors = model.wv.vectors.astype(np.float16)\n",
    "model.wv.vectors_ngrams = model.wv.vectors_ngrams.astype(np.float16)"
   ]
  },
  {
   "cell_type": "code",
   "execution_count": null,
   "metadata": {},
   "outputs": [],
   "source": [
    "texts_mean_vect = [text_vec(items) for items in list_tags_each_video]\n",
    "np_texts_mean_vect = np.vstack(texts_mean_vect)"
   ]
  },
  {
   "cell_type": "code",
   "execution_count": null,
   "metadata": {},
   "outputs": [],
   "source": [
    "vect_query = text_vec(query.split()).reshape(-1,1) / np.linalg.norm(text_vec(query.split()))\n",
    "relevance = np.matmul(np_texts_mean_vect, vect_query)"
   ]
  }
 ],
 "metadata": {
  "interpreter": {
   "hash": "4a5abaed15707f31a06625bb1525f2d8972efc440a88d608e2d66fca2e6da2a2"
  },
  "kernelspec": {
   "display_name": "Python 3.11.4 64-bit",
   "language": "python",
   "name": "python3"
  },
  "language_info": {
   "codemirror_mode": {
    "name": "ipython",
    "version": 3
   },
   "file_extension": ".py",
   "mimetype": "text/x-python",
   "name": "python",
   "nbconvert_exporter": "python",
   "pygments_lexer": "ipython3",
   "version": "3.11.4"
  },
  "orig_nbformat": 4
 },
 "nbformat": 4,
 "nbformat_minor": 2
}
